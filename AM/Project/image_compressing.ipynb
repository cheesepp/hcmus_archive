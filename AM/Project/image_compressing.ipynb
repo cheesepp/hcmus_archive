{
 "cells": [
  {
   "cell_type": "code",
   "execution_count": 8,
   "metadata": {},
   "outputs": [],
   "source": [
    "# 21120576 Trần Đình Nhật Trí\n",
    "import numpy as np\n",
    "from sklearn.decomposition import PCA\n",
    "import matplotlib.pyplot as plt\n",
    "import imageio"
   ]
  },
  {
   "cell_type": "code",
   "execution_count": 9,
   "metadata": {},
   "outputs": [
    {
     "name": "stdout",
     "output_type": "stream",
     "text": [
      "[[112.937 112.937 112.937 ... 108.828 108.828 108.828]\n",
      " [112.937 112.937 112.937 ... 108.828 108.828 108.828]\n",
      " [112.937 112.937 112.937 ... 108.828 108.828 108.828]\n",
      " ...\n",
      " [ 32.358  32.358  32.358 ...  32.358  32.358  32.358]\n",
      " [ 32.358  32.358  32.358 ...  32.358  32.358  32.358]\n",
      " [ 32.358  32.358  32.358 ...  32.358  32.358  32.358]]\n",
      "(648, 1152)\n"
     ]
    }
   ],
   "source": [
    "# Tải ảnh từ file input\n",
    "image = imageio.imread('hehe.png', as_gray=True)\n",
    "print(image)\n",
    "print (image.shape)"
   ]
  },
  {
   "cell_type": "code",
   "execution_count": null,
   "metadata": {},
   "outputs": [],
   "source": [
    "# Thực hiện PCA\n",
    "pca = PCA(n_components=20)\n",
    "image_pca = pca.fit_transform(image)\n",
    "print(image_pca)"
   ]
  },
  {
   "cell_type": "code",
   "execution_count": null,
   "metadata": {},
   "outputs": [],
   "source": [
    "# Tái cấu trúc ảnh từ số thành phần chính trong PCA\n",
    "image_reconstructed = pca.inverse_transform(image_pca)\n",
    "\n",
    "# Tạo lại số chiều từ image_reconstructed để in ra màn hình\n",
    "image_reconstructed = np.reshape(image_reconstructed, image.shape)\n"
   ]
  },
  {
   "cell_type": "code",
   "execution_count": null,
   "metadata": {},
   "outputs": [],
   "source": [
    "# Vẽ ảnh gốc và ảnh nén màn hình\n",
    "fig, axes = plt.subplots(1, 2, figsize=(8, 4))\n",
    "axes[0].imshow(image, cmap='gray')\n",
    "axes[0].set_title('Original Image')\n",
    "axes[0].axis('off')\n",
    "axes[1].imshow(image_reconstructed, cmap='gray')\n",
    "axes[1].set_title('Reconstructed Image')\n",
    "axes[1].axis('off')\n",
    "plt.show()"
   ]
  }
 ],
 "metadata": {
  "kernelspec": {
   "display_name": "base",
   "language": "python",
   "name": "python3"
  },
  "language_info": {
   "codemirror_mode": {
    "name": "ipython",
    "version": 3
   },
   "file_extension": ".py",
   "mimetype": "text/x-python",
   "name": "python",
   "nbconvert_exporter": "python",
   "pygments_lexer": "ipython3",
   "version": "3.9.12"
  },
  "orig_nbformat": 4
 },
 "nbformat": 4,
 "nbformat_minor": 2
}
